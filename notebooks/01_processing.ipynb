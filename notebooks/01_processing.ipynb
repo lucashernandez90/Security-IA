{
 "cells": [
  {
   "cell_type": "code",
   "execution_count": 50,
   "id": "0cb3eced",
   "metadata": {},
   "outputs": [],
   "source": [
    "import pandas as pd\n",
    "import numpy as np\n",
    "import zipfile\n",
    "import glob\n",
    "import os\n",
    "import matplotlib.pyplot as plt\n",
    "import seaborn as sns\n",
    "from sklearn.preprocessing import LabelEncoder, StandardScaler\n",
    "from sklearn.model_selection import train_test_split\n",
    "from imblearn.under_sampling import RandomUnderSampler\n",
    "import joblib"
   ]
  },
  {
   "cell_type": "code",
   "execution_count": 51,
   "id": "5165ca76",
   "metadata": {},
   "outputs": [],
   "source": [
    "plt.style.use('ggplot')\n",
    "sns.set_palette(\"viridis\")\n",
    "pd.set_option('display.max_columns', None)\n",
    "pd.set_option('display.max_rows', 100)"
   ]
  },
  {
   "cell_type": "markdown",
   "id": "f5ea09d6",
   "metadata": {},
   "source": [
    "========== 1. CARREGAR DADOS =========="
   ]
  },
  {
   "cell_type": "code",
   "execution_count": 52,
   "id": "57294bea",
   "metadata": {},
   "outputs": [
    {
     "name": "stdout",
     "output_type": "stream",
     "text": [
      "Arquivos encontrados: 8\n",
      "Friday-WorkingHours-Afternoon-DDos.pcap_ISCX.csv -> 225,745 linhas, 79 colunas\n",
      "Friday-WorkingHours-Afternoon-PortScan.pcap_ISCX.csv -> 286,467 linhas, 79 colunas\n",
      "Friday-WorkingHours-Morning.pcap_ISCX.csv -> 191,033 linhas, 79 colunas\n",
      "Monday-WorkingHours.pcap_ISCX.csv -> 529,918 linhas, 79 colunas\n",
      "Thursday-WorkingHours-Afternoon-Infilteration.pcap_ISCX.csv -> 288,602 linhas, 79 colunas\n",
      "Thursday-WorkingHours-Morning-WebAttacks.pcap_ISCX.csv -> 170,366 linhas, 79 colunas\n",
      "Tuesday-WorkingHours.pcap_ISCX.csv -> 445,909 linhas, 79 colunas\n",
      "Wednesday-workingHours.pcap_ISCX.csv -> 692,703 linhas, 79 colunas\n",
      "\n",
      "Dataset final: 2,830,743 linhas e 79 colunas\n"
     ]
    }
   ],
   "source": [
    "zip_path = \"D:/Security-IA/csv/MachineLearningCVE.zip\"\n",
    "extract_to = \"D:/Security-IA/data/raw\"\n",
    "\n",
    "with zipfile.ZipFile(zip_path, 'r') as zip_ref:\n",
    "    zip_ref.extractall(extract_to)\n",
    "\n",
    "data_dir = extract_to\n",
    "csv_files = glob.glob(os.path.join(data_dir, \"**\", \"*.csv\"), recursive=True)\n",
    "\n",
    "print(f\"Arquivos encontrados: {len(csv_files)}\")\n",
    "\n",
    "dataframes = []\n",
    "for file in csv_files:\n",
    "    df_temp = pd.read_csv(file)\n",
    "    print(f\"{os.path.basename(file)} -> {df_temp.shape[0]:,} linhas, {df_temp.shape[1]} colunas\")\n",
    "    dataframes.append(df_temp)\n",
    "\n",
    "df = pd.concat(dataframes, ignore_index=True)\n",
    "print(f\"\\nDataset final: {df.shape[0]:,} linhas e {df.shape[1]} colunas\")"
   ]
  },
  {
   "cell_type": "markdown",
   "id": "61594e15",
   "metadata": {},
   "source": [
    "========== 2. LIMPEZA E PRE-PROCESSAMENTO =========="
   ]
  },
  {
   "cell_type": "code",
   "execution_count": 53,
   "id": "1c451f75",
   "metadata": {},
   "outputs": [
    {
     "name": "stdout",
     "output_type": "stream",
     "text": [
      "Linhas removidas por valores nulos/infinitos: 2,867\n",
      "Total de colunas agora: 68\n"
     ]
    }
   ],
   "source": [
    "df.replace([np.inf, -np.inf], np.nan, inplace=True)\n",
    "linhas_antes = df.shape[0]\n",
    "df.dropna(inplace=True)\n",
    "linhas_depois = df.shape[0]\n",
    "print(f\"Linhas removidas por valores nulos/infinitos: {linhas_antes - linhas_depois:,}\")\n",
    "\n",
    "df.columns = df.columns.str.strip()\n",
    "\n",
    "colunas_remover = [\n",
    "    \"Destination Port\", \"Fwd Header Length.1\", \"Init_Win_bytes_forward\",\n",
    "    \"Init_Win_bytes_backward\", \"act_data_pkt_fwd\", \"min_seg_size_forward\",\n",
    "    \"Subflow Fwd Packets\", \"Subflow Fwd Bytes\", \"Subflow Bwd Packets\",\n",
    "    \"Subflow Bwd Bytes\", \"Average Packet Size\"\n",
    "]\n",
    "df = df.drop(columns=colunas_remover, errors=\"ignore\")\n",
    "print(f\"Total de colunas agora: {len(df.columns)}\")"
   ]
  },
  {
   "cell_type": "markdown",
   "id": "9bb05a40",
   "metadata": {},
   "source": [
    "========== 3. AGRUPAR CLASSES RARAS =========="
   ]
  },
  {
   "cell_type": "code",
   "execution_count": 54,
   "id": "1232cb8b",
   "metadata": {},
   "outputs": [
    {
     "name": "stdout",
     "output_type": "stream",
     "text": [
      "\n",
      "Agrupando classes raras...\n",
      "Distribuição após agrupamento:\n",
      "Label_Grouped\n",
      "BENIGN               2271320\n",
      "DoS Hulk              230124\n",
      "PortScan              158804\n",
      "DoS Other             139320\n",
      "Patator                13832\n",
      "DoS GoldenEye          10293\n",
      "Web Attack              2180\n",
      "Bot                     1956\n",
      "Other Rare Attack         47\n",
      "Name: count, dtype: int64\n"
     ]
    }
   ],
   "source": [
    "print(\"\\nAgrupando classes raras...\")\n",
    "\n",
    "def agrupar_classes(label):\n",
    "    if 'Web Attack' in label:\n",
    "        return 'Web Attack'\n",
    "    elif 'DoS' in label and 'Hulk' not in label and 'GoldenEye' not in label:\n",
    "        return 'DoS Other'\n",
    "    elif 'Patator' in label:\n",
    "        return 'Patator'\n",
    "    elif label in ['Heartbleed', 'Infiltration']:\n",
    "        return 'Other Rare Attack'\n",
    "    else:\n",
    "        return label\n",
    "\n",
    "df['Label_Grouped'] = df['Label'].apply(agrupar_classes)\n",
    "\n",
    "print(\"Distribuição após agrupamento:\")\n",
    "print(df['Label_Grouped'].value_counts())\n",
    "\n",
    "# Usar a coluna agrupada\n",
    "X = df.drop(['Label', 'Label_Grouped'], axis=1)\n",
    "y = df['Label_Grouped']"
   ]
  },
  {
   "cell_type": "markdown",
   "id": "8c17d005",
   "metadata": {},
   "source": [
    "========== 4. ANALISE DAS CLASSES =========="
   ]
  },
  {
   "cell_type": "code",
   "execution_count": 55,
   "id": "7abb9ee0",
   "metadata": {},
   "outputs": [
    {
     "name": "stdout",
     "output_type": "stream",
     "text": [
      "\n",
      "Distribuição das classes (Label_Grouped):\n",
      "Label_Grouped\n",
      "BENIGN               2271320\n",
      "DoS Hulk              230124\n",
      "PortScan              158804\n",
      "DoS Other             139320\n",
      "Patator                13832\n",
      "DoS GoldenEye          10293\n",
      "Web Attack              2180\n",
      "Bot                     1956\n",
      "Other Rare Attack         47\n",
      "Name: count, dtype: int64\n"
     ]
    },
    {
     "data": {
      "image/png": "[encoded data removed]",
      "text/plain": [
       "<Figure size 1200x600 with 1 Axes>"
      ]
     },
     "metadata": {},
     "output_type": "display_data"
    }
   ],
   "source": [
    "print(\"\\nDistribuição das classes (Label_Grouped):\")\n",
    "distribuicao = y.value_counts()\n",
    "print(distribuicao)\n",
    "\n",
    "plt.figure(figsize=(12, 6))\n",
    "distribuicao.plot(kind='bar')\n",
    "plt.title(\"Distribuição das Classes Agrupadas\")\n",
    "plt.ylabel(\"Número de Instâncias\")\n",
    "plt.xlabel(\"Classes\")\n",
    "plt.xticks(rotation=45)\n",
    "plt.tight_layout()\n",
    "plt.show()"
   ]
  },
  {
   "cell_type": "markdown",
   "id": "a832bf4d",
   "metadata": {},
   "source": [
    "========== 5. SPLIT DOS DADOS =========="
   ]
  },
  {
   "cell_type": "code",
   "execution_count": 56,
   "id": "940fa4b6",
   "metadata": {},
   "outputs": [
    {
     "name": "stdout",
     "output_type": "stream",
     "text": [
      "\n",
      "Treino: 2,262,300 amostras\n",
      "Teste: 565,576 amostras\n"
     ]
    }
   ],
   "source": [
    "X_train, X_test, y_train, y_test = train_test_split(\n",
    "    X, y, \n",
    "    test_size=0.2,\n",
    "    random_state=42,\n",
    "    stratify=y\n",
    ")\n",
    "\n",
    "print(f\"\\nTreino: {X_train.shape[0]:,} amostras\")\n",
    "print(f\"Teste: {X_test.shape[0]:,} amostras\")"
   ]
  },
  {
   "cell_type": "markdown",
   "id": "add65951",
   "metadata": {},
   "source": [
    "========== 6. CODIFICAR LABELS =========="
   ]
  },
  {
   "cell_type": "code",
   "execution_count": 57,
   "id": "442d47be",
   "metadata": {},
   "outputs": [
    {
     "name": "stdout",
     "output_type": "stream",
     "text": [
      "Labels codificados corretamente\n",
      "\n",
      "Mapeamento de classes:\n",
      "0 -> BENIGN\n",
      "1 -> Bot\n",
      "2 -> DoS GoldenEye\n",
      "3 -> DoS Hulk\n",
      "4 -> DoS Other\n",
      "5 -> Other Rare Attack\n",
      "6 -> Patator\n",
      "7 -> PortScan\n",
      "8 -> Web Attack\n"
     ]
    }
   ],
   "source": [
    "le = LabelEncoder()\n",
    "y_train_encoded = le.fit_transform(y_train)\n",
    "y_test_encoded = le.transform(y_test)\n",
    "\n",
    "print(\"Labels codificados corretamente\")\n",
    "\n",
    "# Mostrar mapeamento\n",
    "print(\"\\nMapeamento de classes:\")\n",
    "for i, classe in enumerate(le.classes_):\n",
    "    print(f\"{i} -> {classe}\")"
   ]
  },
  {
   "cell_type": "markdown",
   "id": "6f3023a6",
   "metadata": {},
   "source": [
    "========== 7. SCALING SEM DATA LEAKAGE =========="
   ]
  },
  {
   "cell_type": "code",
   "execution_count": 58,
   "id": "2f1267ae",
   "metadata": {},
   "outputs": [
    {
     "name": "stdout",
     "output_type": "stream",
     "text": [
      "Dados normalizados SEM data leakage\n"
     ]
    }
   ],
   "source": [
    "scaler = StandardScaler()\n",
    "X_train_scaled = scaler.fit_transform(X_train)\n",
    "X_test_scaled = scaler.transform(X_test)\n",
    "\n",
    "print(\"Dados normalizados SEM data leakage\")"
   ]
  },
  {
   "cell_type": "markdown",
   "id": "c4e71516",
   "metadata": {},
   "source": [
    "========== 8. BALANCEAMENTO COM UNDERSAMPLING =========="
   ]
  },
  {
   "cell_type": "code",
   "execution_count": 61,
   "id": "95811e0e",
   "metadata": {},
   "outputs": [
    {
     "name": "stdout",
     "output_type": "stream",
     "text": [
      "\n",
      "Aplicando apenas undersampling na classe majoritária...\n",
      "\n",
      "Distribuição ANTES do balanceamento:\n",
      "Classe 0 (BENIGN): 1,817,055 amostras\n",
      "Classe 1 (Bot): 1,565 amostras\n",
      "Classe 2 (DoS GoldenEye): 8,234 amostras\n",
      "Classe 3 (DoS Hulk): 184,099 amostras\n",
      "Classe 4 (DoS Other): 111,456 amostras\n",
      "Classe 5 (Other Rare Attack): 38 amostras\n",
      "Classe 6 (Patator): 11,066 amostras\n",
      "Classe 7 (PortScan): 127,043 amostras\n",
      "Classe 8 (Web Attack): 1,744 amostras\n",
      "\n",
      "Estratégia: {np.int64(0): 20000, np.int64(1): np.int64(1565), np.int64(2): np.int64(8234), np.int64(3): np.int64(184099), np.int64(4): np.int64(111456), np.int64(5): np.int64(38), np.int64(6): np.int64(11066), np.int64(7): np.int64(127043), np.int64(8): np.int64(1744)}\n",
      "\n",
      "Após balanceamento - Treino: 465,245 amostras\n",
      "\n",
      "Distribuição APÓS balanceamento:\n",
      "Classe 0 (BENIGN): 20,000 amostras\n",
      "Classe 1 (Bot): 1,565 amostras\n",
      "Classe 2 (DoS GoldenEye): 8,234 amostras\n",
      "Classe 3 (DoS Hulk): 184,099 amostras\n",
      "Classe 4 (DoS Other): 111,456 amostras\n",
      "Classe 5 (Other Rare Attack): 38 amostras\n",
      "Classe 6 (Patator): 11,066 amostras\n",
      "Classe 7 (PortScan): 127,043 amostras\n",
      "Classe 8 (Web Attack): 1,744 amostras\n"
     ]
    }
   ],
   "source": [
    "# ========== 8. BALANCEAMENTO APENAS COM UNDERSAMPLING ==========\n",
    "print(\"\\nAplicando apenas undersampling na classe majoritária...\")\n",
    "\n",
    "from imblearn.under_sampling import RandomUnderSampler\n",
    "\n",
    "# Verificar distribuição\n",
    "unique, counts = np.unique(y_train_encoded, return_counts=True)\n",
    "print(\"\\nDistribuição ANTES do balanceamento:\")\n",
    "for cls, count in zip(unique, counts):\n",
    "    print(f\"Classe {cls} ({le.inverse_transform([cls])[0]}): {count:,} amostras\")\n",
    "\n",
    "# Manter todas as classes minoritárias como estão, só reduzir a majoritária\n",
    "majority_class = np.argmax(counts)\n",
    "majority_count = counts[majority_class]\n",
    "target_samples = 20000  # Número razoável para a classe majoritária\n",
    "\n",
    "sampling_strategy = {}\n",
    "for cls, count in zip(unique, counts):\n",
    "    if cls == majority_class:\n",
    "        sampling_strategy[cls] = target_samples  # Reduzir a majoritária\n",
    "    else:\n",
    "        sampling_strategy[cls] = count  # Manter as outras\n",
    "\n",
    "print(f\"\\nEstratégia: {sampling_strategy}\")\n",
    "\n",
    "# Aplicar undersampling\n",
    "rus = RandomUnderSampler(sampling_strategy=sampling_strategy, random_state=42)\n",
    "X_train_balanced, y_train_balanced = rus.fit_resample(X_train_scaled, y_train_encoded)\n",
    "\n",
    "print(f\"\\nApós balanceamento - Treino: {X_train_balanced.shape[0]:,} amostras\")\n",
    "\n",
    "# Verificar distribuição\n",
    "unique_balanced, counts_balanced = np.unique(y_train_balanced, return_counts=True)\n",
    "print(\"\\nDistribuição APÓS balanceamento:\")\n",
    "for cls, count in zip(unique_balanced, counts_balanced):\n",
    "    print(f\"Classe {cls} ({le.inverse_transform([cls])[0]}): {count:,} amostras\")"
   ]
  },
  {
   "cell_type": "markdown",
   "id": "f4b7ff45",
   "metadata": {},
   "source": [
    "========== 9. SALVAR DADOS PROCESSADOS =========="
   ]
  },
  {
   "cell_type": "code",
   "execution_count": 62,
   "id": "973995c3",
   "metadata": {},
   "outputs": [
    {
     "name": "stdout",
     "output_type": "stream",
     "text": [
      "\n",
      "✓ Dados salvos com pré-processamento correto!\n"
     ]
    }
   ],
   "source": [
    "os.makedirs(\"D:/Security-IA/data/processed\", exist_ok=True)\n",
    "\n",
    "np.save(\"D:/Security-IA/data/processed/X_train_balanced.npy\", X_train_balanced)\n",
    "np.save(\"D:/Security-IA/data/processed/X_test_scaled.npy\", X_test_scaled)\n",
    "np.save(\"D:/Security-IA/data/processed/y_train_balanced.npy\", y_train_balanced)\n",
    "np.save(\"D:/Security-IA/data/processed/y_test.npy\", y_test_encoded)\n",
    "\n",
    "# Salvar também o LabelEncoder e Scaler\n",
    "joblib.dump(le, \"D:/Security-IA/data/processed/label_encoder.pkl\")\n",
    "joblib.dump(scaler, \"D:/Security-IA/data/processed/scaler.pkl\")\n",
    "\n",
    "print(\"\\n✓ Dados salvos com pré-processamento correto!\")"
   ]
  },
  {
   "cell_type": "code",
   "execution_count": 63,
   "id": "0900aaa6",
   "metadata": {},
   "outputs": [
    {
     "name": "stdout",
     "output_type": "stream",
     "text": [
      "\n",
      "=== RESUMO FINAL ===\n",
      "Classes após agrupamento: 9\n",
      "Amostras de treino balanceadas: 465,245\n",
      "Amostras de teste: 565,576\n",
      "Dimensões das features: 67\n"
     ]
    }
   ],
   "source": [
    "print(f\"\\n=== RESUMO FINAL ===\")\n",
    "print(f\"Classes após agrupamento: {len(le.classes_)}\")\n",
    "print(f\"Amostras de treino balanceadas: {X_train_balanced.shape[0]:,}\")\n",
    "print(f\"Amostras de teste: {X_test_scaled.shape[0]:,}\")\n",
    "print(f\"Dimensões das features: {X_train_balanced.shape[1]}\")"
   ]
  }
 ],
 "metadata": {
  "kernelspec": {
   "display_name": "Python 3",
   "language": "python",
   "name": "python3"
  },
  "language_info": {
   "codemirror_mode": {
    "name": "ipython",
    "version": 3
   },
   "file_extension": ".py",
   "mimetype": "text/x-python",
   "name": "python",
   "nbconvert_exporter": "python",
   "pygments_lexer": "ipython3",
   "version": "3.13.1"
  }
 },
 "nbformat": 4,
 "nbformat_minor": 5
}
