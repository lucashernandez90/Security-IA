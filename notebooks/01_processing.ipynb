{
 "cells": [
  {
   "cell_type": "code",
   "execution_count": null,
   "id": "0cb3eced",
   "metadata": {},
   "outputs": [],
   "source": [
    "import pandas as pd\n",
    "import numpy as np\n",
    "import zipfile\n",
    "import glob\n",
    "import os\n",
    "import matplotlib.pyplot as plt\n",
    "import seaborn as sns\n",
    "from sklearn.preprocessing import LabelEncoder, StandardScaler\n",
    "from sklearn.model_selection import train_test_split\n",
    "from imblearn.under_sampling import RandomUnderSampler\n",
    "import joblib"
   ]
  },
  {
   "cell_type": "code",
   "execution_count": 14,
   "id": "57294bea",
   "metadata": {},
   "outputs": [
    {
     "name": "stdout",
     "output_type": "stream",
     "text": [
      "Arquivos encontrados: 8\n",
      "Friday-WorkingHours-Afternoon-DDos.pcap_ISCX.csv -> 225,745 linhas, 79 colunas\n",
      "Friday-WorkingHours-Afternoon-PortScan.pcap_ISCX.csv -> 286,467 linhas, 79 colunas\n",
      "Friday-WorkingHours-Morning.pcap_ISCX.csv -> 191,033 linhas, 79 colunas\n",
      "Monday-WorkingHours.pcap_ISCX.csv -> 529,918 linhas, 79 colunas\n",
      "Thursday-WorkingHours-Afternoon-Infilteration.pcap_ISCX.csv -> 288,602 linhas, 79 colunas\n",
      "Thursday-WorkingHours-Morning-WebAttacks.pcap_ISCX.csv -> 170,366 linhas, 79 colunas\n",
      "Tuesday-WorkingHours.pcap_ISCX.csv -> 445,909 linhas, 79 colunas\n",
      "Wednesday-workingHours.pcap_ISCX.csv -> 692,703 linhas, 79 colunas\n",
      "\n",
      "Dataset final: 2,830,743 linhas e 79 colunas\n"
     ]
    }
   ],
   "source": [
    "zip_path = \"D:/Security-IA/csv/MachineLearningCVE.zip\"\n",
    "\n",
    "extract_to = \"D:/Security-IA/data/raw\"\n",
    "\n",
    "with zipfile.ZipFile(zip_path, 'r') as zip_ref:\n",
    "    zip_ref.extractall(extract_to)\n",
    "\n",
    "data_dir = extract_to  \n",
    "\n",
    "csv_files = glob.glob(os.path.join(data_dir, \"**\", \"*.csv\"), recursive= True)\n",
    "\n",
    "print(f\"Arquivos encontrados: {len(csv_files)}\")\n",
    "if not csv_files:\n",
    "    print(\"Nenhum arquivo CSV encontrado!\")\n",
    "\n",
    "# Armazena os DataFrames\n",
    "dataframes = []\n",
    "\n",
    "for file in csv_files:\n",
    "    df_temp = pd.read_csv(file)\n",
    "    print(f\"{os.path.basename(file)} -> {df_temp.shape[0]:,} linhas, {df_temp.shape[1]} colunas\")\n",
    "    dataframes.append(df_temp)\n",
    "\n",
    "# Junta todos os DataFrames em um só\n",
    "if dataframes:\n",
    "    df = pd.concat(dataframes, ignore_index=True)\n",
    "    print(f\"\\nDataset final: {df.shape[0]:,} linhas e {df.shape[1]} colunas\")\n",
    "else:\n",
    "    print(\"Nenhum dataframe para concatenar.\")"
   ]
  },
  {
   "cell_type": "code",
   "execution_count": 15,
   "id": "de284a69",
   "metadata": {},
   "outputs": [
    {
     "name": "stdout",
     "output_type": "stream",
     "text": [
      "\n",
      "Tipos de dados das primeiras 10 colunas:\n",
      " Destination Port                 int64\n",
      " Flow Duration                    int64\n",
      " Total Fwd Packets                int64\n",
      " Total Backward Packets           int64\n",
      "Total Length of Fwd Packets       int64\n",
      " Total Length of Bwd Packets      int64\n",
      " Fwd Packet Length Max            int64\n",
      " Fwd Packet Length Min            int64\n",
      " Fwd Packet Length Mean         float64\n",
      " Fwd Packet Length Std          float64\n",
      "dtype: object\n",
      "\n",
      "Total de valores nulos: 1,358\n",
      "Valores infinitos: 4,376\n"
     ]
    }
   ],
   "source": [
    "print(\"\\nTipos de dados das primeiras 10 colunas:\")\n",
    "print(df.dtypes[:10])\n",
    "\n",
    "print(f\"\\nTotal de valores nulos: {df.isnull().sum().sum():,}\")\n",
    "\n",
    "print(f\"Valores infinitos: {(df == np.inf).sum().sum():,}\")"
   ]
  },
  {
   "cell_type": "code",
   "execution_count": 16,
   "id": "58b92adf",
   "metadata": {},
   "outputs": [
    {
     "name": "stdout",
     "output_type": "stream",
     "text": [
      "Linhas removidas por valores nulos/infinitos: 2,867\n"
     ]
    }
   ],
   "source": [
    "df.replace([np.inf, -np.inf], np.nan, inplace=True)\n",
    "\n",
    "linhas_antes = df.shape[0]\n",
    "df.dropna(inplace=True)\n",
    "linhas_depois = df.shape[0]\n",
    "\n",
    "print(f\"Linhas removidas por valores nulos/infinitos: {linhas_antes - linhas_depois:,}\")"
   ]
  },
  {
   "cell_type": "code",
   "execution_count": 17,
   "id": "a7844ee4",
   "metadata": {},
   "outputs": [
    {
     "name": "stdout",
     "output_type": "stream",
     "text": [
      "Colunas normalizadas:\n",
      "['Destination Port', 'Flow Duration', 'Total Fwd Packets', 'Total Backward Packets', 'Total Length of Fwd Packets', 'Total Length of Bwd Packets', 'Fwd Packet Length Max', 'Fwd Packet Length Min', 'Fwd Packet Length Mean', 'Fwd Packet Length Std', 'Bwd Packet Length Max', 'Bwd Packet Length Min', 'Bwd Packet Length Mean', 'Bwd Packet Length Std', 'Flow Bytes/s', 'Flow Packets/s', 'Flow IAT Mean', 'Flow IAT Std', 'Flow IAT Max', 'Flow IAT Min', 'Fwd IAT Total', 'Fwd IAT Mean', 'Fwd IAT Std', 'Fwd IAT Max', 'Fwd IAT Min', 'Bwd IAT Total', 'Bwd IAT Mean', 'Bwd IAT Std', 'Bwd IAT Max', 'Bwd IAT Min', 'Fwd PSH Flags', 'Bwd PSH Flags', 'Fwd URG Flags', 'Bwd URG Flags', 'Fwd Header Length', 'Bwd Header Length', 'Fwd Packets/s', 'Bwd Packets/s', 'Min Packet Length', 'Max Packet Length', 'Packet Length Mean', 'Packet Length Std', 'Packet Length Variance', 'FIN Flag Count', 'SYN Flag Count', 'RST Flag Count', 'PSH Flag Count', 'ACK Flag Count', 'URG Flag Count', 'CWE Flag Count', 'ECE Flag Count', 'Down/Up Ratio', 'Average Packet Size', 'Avg Fwd Segment Size', 'Avg Bwd Segment Size', 'Fwd Header Length.1', 'Fwd Avg Bytes/Bulk', 'Fwd Avg Packets/Bulk', 'Fwd Avg Bulk Rate', 'Bwd Avg Bytes/Bulk', 'Bwd Avg Packets/Bulk', 'Bwd Avg Bulk Rate', 'Subflow Fwd Packets', 'Subflow Fwd Bytes', 'Subflow Bwd Packets', 'Subflow Bwd Bytes', 'Init_Win_bytes_forward', 'Init_Win_bytes_backward', 'act_data_pkt_fwd', 'min_seg_size_forward', 'Active Mean', 'Active Std', 'Active Max', 'Active Min', 'Idle Mean', 'Idle Std', 'Idle Max', 'Idle Min', 'Label']\n",
      "Total de colunas agora: 68\n",
      "['Flow Duration', 'Total Fwd Packets', 'Total Backward Packets', 'Total Length of Fwd Packets', 'Total Length of Bwd Packets', 'Fwd Packet Length Max', 'Fwd Packet Length Min', 'Fwd Packet Length Mean', 'Fwd Packet Length Std', 'Bwd Packet Length Max', 'Bwd Packet Length Min', 'Bwd Packet Length Mean', 'Bwd Packet Length Std', 'Flow Bytes/s', 'Flow Packets/s', 'Flow IAT Mean', 'Flow IAT Std', 'Flow IAT Max', 'Flow IAT Min', 'Fwd IAT Total', 'Fwd IAT Mean', 'Fwd IAT Std', 'Fwd IAT Max', 'Fwd IAT Min', 'Bwd IAT Total', 'Bwd IAT Mean', 'Bwd IAT Std', 'Bwd IAT Max', 'Bwd IAT Min', 'Fwd PSH Flags', 'Bwd PSH Flags', 'Fwd URG Flags', 'Bwd URG Flags', 'Fwd Header Length', 'Bwd Header Length', 'Fwd Packets/s', 'Bwd Packets/s', 'Min Packet Length', 'Max Packet Length', 'Packet Length Mean', 'Packet Length Std', 'Packet Length Variance', 'FIN Flag Count', 'SYN Flag Count', 'RST Flag Count', 'PSH Flag Count', 'ACK Flag Count', 'URG Flag Count', 'CWE Flag Count', 'ECE Flag Count', 'Down/Up Ratio', 'Avg Fwd Segment Size', 'Avg Bwd Segment Size', 'Fwd Avg Bytes/Bulk', 'Fwd Avg Packets/Bulk', 'Fwd Avg Bulk Rate', 'Bwd Avg Bytes/Bulk', 'Bwd Avg Packets/Bulk', 'Bwd Avg Bulk Rate', 'Active Mean', 'Active Std', 'Active Max', 'Active Min', 'Idle Mean', 'Idle Std', 'Idle Max', 'Idle Min', 'Label']\n"
     ]
    }
   ],
   "source": [
    "# Remover espaços extras no início e no fim dos nomes das colunas\n",
    "df.columns = df.columns.str.strip()\n",
    "\n",
    "print(\"Colunas normalizadas:\")\n",
    "print(df.columns.tolist())\n",
    "\n",
    "\n",
    "colunas_remover = [\n",
    "    \"Destination Port\", \"Fwd Header Length.1\", \"Init_Win_bytes_forward\",\n",
    "    \"Init_Win_bytes_backward\", \"act_data_pkt_fwd\", \"min_seg_size_forward\",\n",
    "    \"Subflow Fwd Packets\", \"Subflow Fwd Bytes\", \"Subflow Bwd Packets\",\n",
    "    \"Subflow Bwd Bytes\", \"Average Packet Size\"\n",
    "]\n",
    "\n",
    "df = df.drop(columns=colunas_remover, errors=\"ignore\")\n",
    "\n",
    "print(f\"Total de colunas agora: {len(df.columns)}\")\n",
    "print(df.columns.tolist())\n"
   ]
  },
  {
   "cell_type": "code",
   "execution_count": 19,
   "id": "52c64539",
   "metadata": {},
   "outputs": [
    {
     "name": "stdout",
     "output_type": "stream",
     "text": [
      "Colunas: ['Flow Duration', 'Total Fwd Packets', 'Total Backward Packets', 'Total Length of Fwd Packets', 'Total Length of Bwd Packets', 'Fwd Packet Length Max', 'Fwd Packet Length Min', 'Fwd Packet Length Mean', 'Fwd Packet Length Std', 'Bwd Packet Length Max', 'Bwd Packet Length Min', 'Bwd Packet Length Mean', 'Bwd Packet Length Std', 'Flow Bytes/s', 'Flow Packets/s', 'Flow IAT Mean', 'Flow IAT Std', 'Flow IAT Max', 'Flow IAT Min', 'Fwd IAT Total', 'Fwd IAT Mean', 'Fwd IAT Std', 'Fwd IAT Max', 'Fwd IAT Min', 'Bwd IAT Total', 'Bwd IAT Mean', 'Bwd IAT Std', 'Bwd IAT Max', 'Bwd IAT Min', 'Fwd PSH Flags', 'Bwd PSH Flags', 'Fwd URG Flags', 'Bwd URG Flags', 'Fwd Header Length', 'Bwd Header Length', 'Fwd Packets/s', 'Bwd Packets/s', 'Min Packet Length', 'Max Packet Length', 'Packet Length Mean', 'Packet Length Std', 'Packet Length Variance', 'FIN Flag Count', 'SYN Flag Count', 'RST Flag Count', 'PSH Flag Count', 'ACK Flag Count', 'URG Flag Count', 'CWE Flag Count', 'ECE Flag Count', 'Down/Up Ratio', 'Avg Fwd Segment Size', 'Avg Bwd Segment Size', 'Fwd Avg Bytes/Bulk', 'Fwd Avg Packets/Bulk', 'Fwd Avg Bulk Rate', 'Bwd Avg Bytes/Bulk', 'Bwd Avg Packets/Bulk', 'Bwd Avg Bulk Rate', 'Active Mean', 'Active Std', 'Active Max', 'Active Min', 'Idle Mean', 'Idle Std', 'Idle Max', 'Idle Min', 'Label']\n",
      "\n",
      "Distribuição das classes (Label):\n",
      "Label\n",
      "BENIGN                        2271320\n",
      "DoS Hulk                       230124\n",
      "PortScan                       158804\n",
      "DDoS                           128025\n",
      "DoS GoldenEye                   10293\n",
      "FTP-Patator                      7935\n",
      "SSH-Patator                      5897\n",
      "DoS slowloris                    5796\n",
      "DoS Slowhttptest                 5499\n",
      "Bot                              1956\n",
      "Web Attack � Brute Force         1507\n",
      "Web Attack � XSS                  652\n",
      "Infiltration                       36\n",
      "Web Attack � Sql Injection         21\n",
      "Heartbleed                         11\n",
      "Name: count, dtype: int64\n"
     ]
    },
    {
     "data": {
      "image/png": "[encoded data removed]",
      "text/plain": [
       "<Figure size 1000x600 with 1 Axes>"
      ]
     },
     "metadata": {},
     "output_type": "display_data"
    }
   ],
   "source": [
    "df.columns = df.columns.str.strip()\n",
    "\n",
    "# Confirma que existe a coluna Label\n",
    "print(\"Colunas:\", df.columns.tolist())\n",
    "\n",
    "print(\"\\nDistribuição das classes (Label):\")\n",
    "print(df['Label'].value_counts())\n",
    "\n",
    "# Gráfico\n",
    "import matplotlib.pyplot as plt\n",
    "\n",
    "plt.figure(figsize=(10, 6))\n",
    "df['Label'].value_counts().plot(kind='bar')\n",
    "plt.title(\"Distribuição das Classes de Tráfego\")\n",
    "plt.ylabel(\"Número de Instâncias\")\n",
    "plt.xticks(rotation=45)\n",
    "plt.tight_layout()\n",
    "plt.show()\n"
   ]
  },
  {
   "cell_type": "code",
   "execution_count": 20,
   "id": "b351521a",
   "metadata": {},
   "outputs": [
    {
     "name": "stdout",
     "output_type": "stream",
     "text": [
      "Mapeamento de classes:\n",
      "0 -> BENIGN\n",
      "1 -> Bot\n",
      "2 -> DDoS\n",
      "3 -> DoS GoldenEye\n",
      "4 -> DoS Hulk\n",
      "5 -> DoS Slowhttptest\n",
      "6 -> DoS slowloris\n",
      "7 -> FTP-Patator\n",
      "8 -> Heartbleed\n",
      "9 -> Infiltration\n",
      "10 -> PortScan\n",
      "11 -> SSH-Patator\n",
      "12 -> Web Attack � Brute Force\n",
      "13 -> Web Attack � Sql Injection\n",
      "14 -> Web Attack � XSS\n"
     ]
    }
   ],
   "source": [
    "# Codificar rótulos categóricos para números\n",
    "le = LabelEncoder()\n",
    "df['Label'] = le.fit_transform(df['Label'])\n",
    "\n",
    "# Mostrar mapeamento\n",
    "print(\"Mapeamento de classes:\")\n",
    "for i, classe in enumerate(le.classes_):\n",
    "    print(f\"{i} -> {classe}\")"
   ]
  },
  {
   "cell_type": "code",
   "execution_count": 21,
   "id": "20101352",
   "metadata": {},
   "outputs": [
    {
     "name": "stdout",
     "output_type": "stream",
     "text": [
      "X (features): (2827876, 67)\n",
      "y (rótulo): (2827876,)\n"
     ]
    }
   ],
   "source": [
    "X = df.drop('Label', axis=1)  # todas as colunas, exceto o rótulo\n",
    "y = df['Label']               # só a coluna Label\n",
    "\n",
    "print(f\"X (features): {X.shape}\")\n",
    "print(f\"y (rótulo): {y.shape}\")"
   ]
  },
  {
   "cell_type": "code",
   "execution_count": 23,
   "id": "8c728f57",
   "metadata": {},
   "outputs": [
    {
     "name": "stdout",
     "output_type": "stream",
     "text": [
      "Nenhuma coluna categórica encontrada\n"
     ]
    }
   ],
   "source": [
    "# Verificar se há colunas categóricas (tipo 'object')\n",
    "categorical_cols = X.select_dtypes(include=['object']).columns\n",
    "\n",
    "if len(categorical_cols) > 0:\n",
    "    print(f\"Colunas categóricas encontradas: {list(categorical_cols)}\")\n",
    "    for col in categorical_cols:\n",
    "        X[col] = LabelEncoder().fit_transform(X[col])\n",
    "else:\n",
    "    print(\"Nenhuma coluna categórica encontrada\")"
   ]
  },
  {
   "cell_type": "code",
   "execution_count": 24,
   "id": "ef4817df",
   "metadata": {},
   "outputs": [
    {
     "name": "stdout",
     "output_type": "stream",
     "text": [
      "Dados normalizados com StandardScaler\n",
      "Formato: (2827876, 67)\n"
     ]
    }
   ],
   "source": [
    "scaler = StandardScaler()\n",
    "X_scaled = scaler.fit_transform(X)\n",
    "\n",
    "print(\"Dados normalizados com StandardScaler\")\n",
    "print(f\"Formato: {X_scaled.shape}\")"
   ]
  },
  {
   "cell_type": "code",
   "execution_count": 28,
   "id": "0595cbcc",
   "metadata": {},
   "outputs": [
    {
     "name": "stdout",
     "output_type": "stream",
     "text": [
      "Treino: 2,262,300 amostras\n",
      "Teste: 565,576 amostras\n",
      "Labels codificados corretamente\n",
      "Dados normalizados SEM data leakage\n",
      "Balanceando classes com SMOTE...\n",
      "Após balanceamento - Treino: 27,255,825 amostras\n",
      "\n",
      "Distribuição após balanceamento:\n",
      "Classe 0: 1,817,055 amostras\n",
      "Classe 1: 1,817,055 amostras\n",
      "Classe 2: 1,817,055 amostras\n",
      "Classe 3: 1,817,055 amostras\n",
      "Classe 4: 1,817,055 amostras\n",
      "Classe 5: 1,817,055 amostras\n",
      "Classe 6: 1,817,055 amostras\n",
      "Classe 7: 1,817,055 amostras\n",
      "Classe 8: 1,817,055 amostras\n",
      "Classe 9: 1,817,055 amostras\n",
      "Classe 10: 1,817,055 amostras\n",
      "Classe 11: 1,817,055 amostras\n",
      "Classe 12: 1,817,055 amostras\n",
      "Classe 13: 1,817,055 amostras\n",
      "Classe 14: 1,817,055 amostras\n",
      "Dados salvos com pré-processamento correto!\n"
     ]
    }
   ],
   "source": [
    "# 1. PRIMEIRO: Dividir os dados (ANTES de qualquer pré-processamento)\n",
    "X_train, X_test, y_train, y_test = train_test_split(\n",
    "    X, y, \n",
    "    test_size=0.2,\n",
    "    random_state=42,\n",
    "    stratify=y  # Mantém proporção das classes\n",
    ")\n",
    "\n",
    "print(f\"Treino: {X_train.shape[0]:,} amostras\")\n",
    "print(f\"Teste: {X_test.shape[0]:,} amostras\")\n",
    "\n",
    "# 2. CODIFICAR as labels ANTES de tudo\n",
    "from sklearn.preprocessing import LabelEncoder\n",
    "\n",
    "le = LabelEncoder()\n",
    "y_train_encoded = le.fit_transform(y_train)  # ✅ Codificar APENAS com dados de treino\n",
    "y_test_encoded = le.transform(y_test)        # ✅ Aplicar mesma codificação no teste\n",
    "\n",
    "print(\"Labels codificados corretamente\")\n",
    "\n",
    "# 3. DEPOIS: Aplicar scaling APENAS nos dados de treino\n",
    "scaler = StandardScaler()\n",
    "X_train_scaled = scaler.fit_transform(X_train)  # Aprende só com treino\n",
    "X_test_scaled = scaler.transform(X_test)        # Aplica no teste\n",
    "\n",
    "print(\"Dados normalizados SEM data leakage\")\n",
    "\n",
    "# 4. Balancear as classes (usando SMOTE) COM y CODIFICADO\n",
    "from imblearn.over_sampling import SMOTE\n",
    "\n",
    "print(\"Balanceando classes com SMOTE...\")\n",
    "smote = SMOTE(random_state=42)\n",
    "X_train_balanced, y_train_balanced = smote.fit_resample(X_train_scaled, y_train_encoded)  # ✅ Usar y_train_encoded\n",
    "\n",
    "print(f\"Após balanceamento - Treino: {X_train_balanced.shape[0]:,} amostras\")\n",
    "\n",
    "# Verificar distribuição balanceada\n",
    "unique, counts = np.unique(y_train_balanced, return_counts=True)\n",
    "print(\"\\nDistribuição após balanceamento:\")\n",
    "for cls, count in zip(unique, counts):\n",
    "    print(f\"Classe {cls}: {count:,} amostras\")\n",
    "\n",
    "# 5. Salvar os dados processados CORRETAMENTE\n",
    "import os\n",
    "os.makedirs(\"D:/Security-IA/data/processed\", exist_ok=True)\n",
    "\n",
    "np.save(\"D:/Security-IA/data/processed/X_train_balanced.npy\", X_train_balanced)\n",
    "np.save(\"D:/Security-IA/data/processed/X_test_scaled.npy\", X_test_scaled)\n",
    "np.save(\"D:/Security-IA/data/processed/y_train_balanced.npy\", y_train_balanced)\n",
    "np.save(\"D:/Security-IA/data/processed/y_test.npy\", y_test_encoded)  \n",
    "\n",
    "# Salvar também o LabelEncoder e Scaler para uso futuro\n",
    "import joblib\n",
    "joblib.dump(le, \"D:/Security-IA/data/processed/label_encoder.pkl\")\n",
    "joblib.dump(scaler, \"D:/Security-IA/data/processed/scaler.pkl\")\n",
    " \n",
    "print(\"Dados salvos com pré-processamento correto!\")"
   ]
  }
 ],
 "metadata": {
  "kernelspec": {
   "display_name": "Python 3",
   "language": "python",
   "name": "python3"
  },
  "language_info": {
   "codemirror_mode": {
    "name": "ipython",
    "version": 3
   },
   "file_extension": ".py",
   "mimetype": "text/x-python",
   "name": "python",
   "nbconvert_exporter": "python",
   "pygments_lexer": "ipython3",
   "version": "3.13.1"
  }
 },
 "nbformat": 4,
 "nbformat_minor": 5
}
